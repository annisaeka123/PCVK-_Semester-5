{
  "nbformat": 4,
  "nbformat_minor": 0,
  "metadata": {
    "colab": {
      "provenance": [],
      "authorship_tag": "ABX9TyODnA2de1f/PtxEEGUEk9UH",
      "include_colab_link": true
    },
    "kernelspec": {
      "name": "python3",
      "display_name": "Python 3"
    },
    "language_info": {
      "name": "python"
    }
  },
  "cells": [
    {
      "cell_type": "markdown",
      "metadata": {
        "id": "view-in-github",
        "colab_type": "text"
      },
      "source": [
        "<a href=\"https://colab.research.google.com/github/annisaeka123/PCVK-_Semester-5/blob/main/week5/Week5_02.ipynb\" target=\"_parent\"><img src=\"https://colab.research.google.com/assets/colab-badge.svg\" alt=\"Open In Colab\"/></a>"
      ]
    },
    {
      "cell_type": "markdown",
      "source": [
        "**MODUL 6 – Histogram, Histogram Equalization, Dithering**"
      ],
      "metadata": {
        "id": "yI2ASHCGFh0f"
      }
    },
    {
      "cell_type": "markdown",
      "source": [
        "A. Percobaan Histogram"
      ],
      "metadata": {
        "id": "scvoqfh4Ff6C"
      }
    },
    {
      "cell_type": "markdown",
      "source": [],
      "metadata": {
        "id": "K0VvbD4kF3Fd"
      }
    }
  ]
}